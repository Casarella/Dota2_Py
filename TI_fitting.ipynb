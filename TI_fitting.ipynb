{
 "cells": [
  {
   "cell_type": "code",
   "execution_count": 1,
   "metadata": {
    "collapsed": false
   },
   "outputs": [],
   "source": [
    "import itertools\n",
    "import numpy as np\n",
    "import scipy as sc\n",
    "import matplotlib\n",
    "import matplotlib.pyplot as plt\n",
    "from scipy.optimize import curve_fit\n",
    "\n",
    "#Input data for 2014 (TI4)\n",
    "\n",
    "#TI4_data = np.genfromtxt('TI4_data.csv',delimiter=',')\n",
    "TI4_data = np.genfromtxt('TI5_data.csv',delimiter=',')\n",
    "#TI4_data\n"
   ]
  },
  {
   "cell_type": "code",
   "execution_count": 2,
   "metadata": {
    "collapsed": true
   },
   "outputs": [],
   "source": [
    "# A few function definitions to model data with\n",
    "# Implies a logarithmic model of the form d + b log (ax+c)\n",
    "\n",
    "def base_log_func(x,a,b,c):\n",
    "  \"\"\"\n",
    "  Base log function to fit data from day 1. \n",
    "  Implies the prizepool starts at 1.6M USD\n",
    "  \"\"\"\n",
    "  return 1.6 + b * np.log(a * x + c)\n",
    "\n",
    "def log_func(x,a,b,c,d):\n",
    "  \"\"\"\n",
    "  If I need a generalized log function to fit\n",
    "  \"\"\"\n",
    "  return d + b * np.log(a * x + c)\n",
    "\n",
    "def exp_decay(x,a,b,c,d):\n",
    "  \"\"\"\n",
    "  Exponential decay, intended use:\n",
    "  on Daily Change\n",
    "  \"\"\"\n",
    "  return b*np.exp(a * x + c) + d\n",
    "\n",
    "def cache1(x,a,b,c):\n",
    "  \"\"\"\n",
    "  Another log 'on-top-of' the base fit\n",
    "  Intended use: after the first treasure is released.\n",
    "  turning_point is intended to be the new 'y-intercept'\n",
    "  \"\"\"\n",
    "  return turning_point + b * np.log(a * x + c)\n",
    "\n",
    "def variance(fit,data):\n",
    "  \"\"\"\n",
    "  Calculates the deviation of the model versus the data.\n",
    "  \"\"\"\n",
    "  var=[]\n",
    "  for ind in list(range(len(data))):\n",
    "    var.append(fit[ind][1]-data[ind][1])\n",
    "  return var"
   ]
  },
  {
   "cell_type": "code",
   "execution_count": 7,
   "metadata": {
    "collapsed": false
   },
   "outputs": [
    {
     "name": "stdout",
     "output_type": "stream",
     "text": [
      "[ 0.9324   0.9271   0.       0.       0.       0.       0.       0.       0.\n",
      "  0.       0.       0.       0.       0.       0.       0.       0.       0.\n",
      "  0.       0.       0.       0.       0.       0.       0.       0.       0.\n",
      "  0.       0.19883  0.11256  0.       0.       0.       0.       0.       0.3513\n",
      "  0.4092   0.       0.       0.       0.       0.       0.       0.       0.\n",
      "  0.       0.       0.       0.       0.       0.       0.       0.       0.\n",
      "  0.       0.     ]\n"
     ]
    },
    {
     "ename": "IndexError",
     "evalue": "list index out of range",
     "output_type": "error",
     "traceback": [
      "\u001b[0;31m---------------------------------------------------------------------------\u001b[0m",
      "\u001b[0;31mIndexError\u001b[0m                                Traceback (most recent call last)",
      "\u001b[0;32m<ipython-input-7-1292b0fb2a26>\u001b[0m in \u001b[0;36m<module>\u001b[0;34m()\u001b[0m\n\u001b[1;32m     75\u001b[0m \u001b[0;34m\u001b[0m\u001b[0m\n\u001b[1;32m     76\u001b[0m \u001b[0;31m#crossover_point = 28\u001b[0m\u001b[0;34m\u001b[0m\u001b[0;34m\u001b[0m\u001b[0m\n\u001b[0;32m---> 77\u001b[0;31m \u001b[0mcrossover_point\u001b[0m \u001b[0;34m=\u001b[0m \u001b[0mfind_crossover\u001b[0m\u001b[0;34m(\u001b[0m\u001b[0mTI4_data\u001b[0m\u001b[0;34m,\u001b[0m\u001b[0;36m0\u001b[0m\u001b[0;34m)\u001b[0m\u001b[0;34m\u001b[0m\u001b[0m\n\u001b[0m",
      "\u001b[0;32m<ipython-input-7-1292b0fb2a26>\u001b[0m in \u001b[0;36mfind_crossover\u001b[0;34m(TI_data, N)\u001b[0m\n\u001b[1;32m     68\u001b[0m             \u001b[0mcross\u001b[0m\u001b[0;34m.\u001b[0m\u001b[0mappend\u001b[0m\u001b[0;34m(\u001b[0m\u001b[0mroots\u001b[0m\u001b[0;34m[\u001b[0m\u001b[0;36m0\u001b[0m\u001b[0;34m]\u001b[0m\u001b[0;34m[\u001b[0m\u001b[0mind\u001b[0m\u001b[0;34m]\u001b[0m\u001b[0;34m)\u001b[0m\u001b[0;34m\u001b[0m\u001b[0m\n\u001b[1;32m     69\u001b[0m     \u001b[0;31m#return roots[0][N]-1\u001b[0m\u001b[0;34m\u001b[0m\u001b[0;34m\u001b[0m\u001b[0m\n\u001b[0;32m---> 70\u001b[0;31m     \u001b[0;32mreturn\u001b[0m \u001b[0mcross\u001b[0m\u001b[0;34m[\u001b[0m\u001b[0;36m0\u001b[0m\u001b[0;34m]\u001b[0m\u001b[0;34m[\u001b[0m\u001b[0mN\u001b[0m\u001b[0;34m]\u001b[0m\u001b[0;34m\u001b[0m\u001b[0m\n\u001b[0m\u001b[1;32m     71\u001b[0m \u001b[0;34m\u001b[0m\u001b[0m\n\u001b[1;32m     72\u001b[0m \u001b[0;31m#crossover_point = 21\u001b[0m\u001b[0;34m\u001b[0m\u001b[0;34m\u001b[0m\u001b[0m\n",
      "\u001b[0;31mIndexError\u001b[0m: list index out of range"
     ]
    }
   ],
   "source": [
    "# Some data preparation/cleaning needed to process fits\n",
    "# and growth/derivatives for point to point interpolation\n",
    "# Also, a function to select a particular dataset.\n",
    "\n",
    "\n",
    "def fix_log_data(TI_data):\n",
    "  \"\"\"\n",
    "  Corrects data if the first entry is an undefined Log.\n",
    "  (Log[0] -> Undefined)\n",
    "  Basically, shift days by 1\n",
    "  \"\"\"\n",
    "  if TI_data[0][0]==0.0:\n",
    "    for ind in list(range(len(TI_data))):\n",
    "      TI_data[ind][0] = TI_data[ind][0]+1 \n",
    "  return TI_data\n",
    "\n",
    "fix_log_data(TI4_data)\n",
    "\n",
    "def daily_growth(TI_data):\n",
    "  \"\"\"\n",
    "  Computes the difference in prizepool per day.\n",
    "  This could be used as a pseudo-interpolation between\n",
    "  points to find a 'turning point'. To do this, calculate\n",
    "  the second derivative.\n",
    "  \"\"\"\n",
    "  growth = []\n",
    "  for row in list(range(len(TI_data))):\n",
    "    growth.append(TI_data[row][1]-TI_data[row-1][1])\n",
    "  growth[0] = TI_data[0][0]\n",
    "  return growth\n",
    "\n",
    "def accel_rate(TI_data):\n",
    "  \"\"\"\n",
    "  The 'second derivative' of the data, for use in finding \n",
    "  crossover points or where to put another 'leg'.\n",
    "  \"\"\"\n",
    "  accel = []\n",
    "  for row in list(range(len(TI_data))):\n",
    "    accel.append(daily_growth(TI_data)[row]-daily_growth(TI_data)[row-1])\n",
    "  thresh=0.1\n",
    "# we only care about positive 'jumps', above some threshold, adjustable above\n",
    "# this value of 0.1 is justified that Log3-Log2 ~ 0.15, i.e. a decent estimate\n",
    "# for a jump\n",
    "  for row in list(range(len(accel))):\n",
    "    if accel[row]<=thresh:\n",
    "        accel[row]=0\n",
    "  return np.array(accel)\n",
    "\n",
    "\n",
    "def prepare_data(dataset):\n",
    "  \"\"\"\n",
    "  Unzips datasets into separate x-y arrays.\n",
    "  \"\"\"\n",
    "  #data_arr = np.array(dataset)\n",
    "  xdata,ydata = fix_log_data(dataset).T\n",
    "  return xdata,ydata\n",
    "\n",
    "def find_crossover(TI_data,N):\n",
    "    \"\"\"\n",
    "    finds crossover point(s) where we should add a leg\n",
    "    N represents the Nth spike\n",
    "    \"\"\"\n",
    "    thresh=0.1\n",
    "    cross=[]\n",
    "    roots = np.where(accel_rate(TI_data)>thresh)\n",
    "    for ind in list(range(len(roots))):\n",
    "        if roots[0][ind]!=roots[0][ind+1]-1:\n",
    "            cross.append(roots[0][ind])\n",
    "    #return roots[0][N]-1\n",
    "    return cross[0][N]\n",
    "  \n",
    "#crossover_point = 21\n",
    "thresh=0.1\n",
    "print(accel_rate(TI4_data))\n",
    "\n",
    "#crossover_point = 28\n",
    "crossover_point = find_crossover(TI4_data,0)"
   ]
  },
  {
   "cell_type": "code",
   "execution_count": 8,
   "metadata": {
    "collapsed": false
   },
   "outputs": [],
   "source": [
    "# Fitting routines for various 'legs' of data\n",
    "\n",
    "def base_fit(dataset):\n",
    "  \"\"\"\n",
    "  Fit for the first 'leg' of the data.\n",
    "  \"\"\"\n",
    "  popt, pcov = curve_fit(base_log_func, prepare_data(dataset)[0][0:crossover_point], prepare_data(dataset)[1][0:crossover_point])\n",
    "  base_fit_fn = np.array(list(zip(prepare_data(dataset)[0],base_log_func(prepare_data(dataset)[0], *popt))))\n",
    "  base_variance = variance(base_fit_fn,dataset)\n",
    "  return popt,pcov,base_fit_fn,base_variance\n",
    "\n",
    "def cache_fit(dataset):\n",
    "  \"\"\"\n",
    "  At least for TI4, this fits the first 'bump' after an immortal treasure was released.\n",
    "  Otherwise, \n",
    "  \"\"\"\n",
    "  popt_cache, pcov_cache = curve_fit(cache1, prepare_data(dataset)[0][crossover_point:], prepare_data(dataset)[1][crossover_point:])\n",
    "  cache_fit_fn = np.array(list(zip(prepare_data(dataset)[0],cache1(prepare_data(dataset)[0], *popt_cache))))\n",
    "  cache_variance = variance(cache_fit_fn,dataset)\n",
    "  return popt_cache,pcov_cache,cache_fit_fn,cache_variance\n"
   ]
  },
  {
   "cell_type": "code",
   "execution_count": null,
   "metadata": {
    "collapsed": false
   },
   "outputs": [],
   "source": [
    "turning_point = base_fit(TI4_data)[2][crossover_point+1][1]\n",
    "\n",
    "# Plotting routines for the data\n",
    "plt.figure('TI4')\n",
    "#plt.subplot(2,2,1)\n",
    "plt.scatter(prepare_data(TI4_data)[0],prepare_data(TI4_data)[1],color='b',label='TI4 Data')\n",
    "plt.plot(prepare_data(TI4_data)[0], base_log_func(prepare_data(TI4_data)[0], *base_fit(TI4_data)[0]), 'r-', label='fit')\n",
    "plt.plot(prepare_data(TI4_data)[0], cache1(prepare_data(TI4_data)[0], *cache_fit(TI4_data)[0]), 'r-', label='cache')\n",
    "plt.yticks(np.arange(0, max(prepare_data(TI4_data)[1])+1, 1))\n",
    "#plt.tick_params(labelbottom='off')\n",
    "plt.xticks(np.arange(0, max(prepare_data(TI4_data)[0])+1, 5))\n",
    "plt.ylabel('Millions of Dollars (USD)')\n",
    "plt.grid(True)\n",
    "plt.title('Dota 2 International Prizepool')\n",
    "plt.legend(loc='lower right')\n",
    "\n",
    "# Plotting of the variance in data\n",
    "#plt.subplot(2,2,2)\n",
    "plt.figure('Deviation')\n",
    "plt.ylabel('Millions of Dollars (USD)')\n",
    "plt.xlabel('Day')\n",
    "plt.title('Deviation in Model Prediction vs. Data')\n",
    "plt.scatter(prepare_data(TI4_data)[0][:crossover_point], base_fit(TI4_data)[3][:crossover_point], color='m',label='base')\n",
    "plt.xticks(np.arange(0, max(prepare_data(TI4_data)[0])+1, 5))\n",
    "plt.scatter(prepare_data(TI4_data)[0][crossover_point+1:], cache_fit(TI4_data)[3][crossover_point+1:], color='m',label='cache')\n",
    "plt.grid(True)\n",
    "plt.legend(loc='best')\n",
    "\n",
    "plt.show()"
   ]
  },
  {
   "cell_type": "code",
   "execution_count": null,
   "metadata": {
    "collapsed": false
   },
   "outputs": [],
   "source": [
    "plt.figure('Daily Change')\n",
    "#plt.subplot(2,1,1)\n",
    "plt.ylabel('Millions of Dollars (USD)')\n",
    "plt.xlabel('Day')\n",
    "plt.title('Daily Change in Prizepool')\n",
    "plt.scatter(prepare_data(TI4_data)[0],daily_growth(TI4_data),color='c',label='TI4')\n",
    "plt.legend(loc='best')\n",
    "\n",
    "#plt.subplot(2,1,2)\n",
    "plt.figure('Interpolation Change')\n",
    "plt.title('Interpolation Change')\n",
    "plt.xlabel('Day')\n",
    "plt.scatter(prepare_data(TI4_data)[0],accel_rate(TI4_data),color='m',label='TI4')\n",
    "plt.legend(loc='best')\n",
    "\n",
    "plt.show()"
   ]
  },
  {
   "cell_type": "code",
   "execution_count": null,
   "metadata": {
    "collapsed": false
   },
   "outputs": [],
   "source": []
  },
  {
   "cell_type": "code",
   "execution_count": null,
   "metadata": {
    "collapsed": true
   },
   "outputs": [],
   "source": []
  }
 ],
 "metadata": {
  "kernelspec": {
   "display_name": "Python 3",
   "language": "python",
   "name": "python3"
  },
  "language_info": {
   "codemirror_mode": {
    "name": "ipython",
    "version": 3
   },
   "file_extension": ".py",
   "mimetype": "text/x-python",
   "name": "python",
   "nbconvert_exporter": "python",
   "pygments_lexer": "ipython3",
   "version": "3.6.0"
  }
 },
 "nbformat": 4,
 "nbformat_minor": 2
}
